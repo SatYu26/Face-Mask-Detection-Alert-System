{
  "nbformat": 4,
  "nbformat_minor": 0,
  "metadata": {
    "colab": {
      "name": "mask_alert_part2.ipynb",
      "provenance": [],
      "collapsed_sections": []
    },
    "kernelspec": {
      "name": "python3",
      "display_name": "Python 3"
    },
    "accelerator": "GPU"
  },
  "cells": [
    {
      "cell_type": "code",
      "metadata": {
        "id": "7pg8Tc6b0Q9L"
      },
      "source": [
        "# Import necessary linbraries\n",
        "from keras.models import load_model\n",
        "import cv2\n",
        "import numpy as np\n",
        "import tkinter\n",
        "from tkinter import messagebox\n",
        "import smtplib\n"
      ],
      "execution_count": 1,
      "outputs": []
    },
    {
      "cell_type": "code",
      "metadata": {
        "id": "2YCWnVKx5U0K",
        "outputId": "9c429583-5ed3-41a4-8347-6556e912d5c5",
        "colab": {
          "base_uri": "https://localhost:8080/",
          "height": 34
        }
      },
      "source": [
        "from google.colab import drive\n",
        "drive.mount('/content/drive')"
      ],
      "execution_count": 2,
      "outputs": [
        {
          "output_type": "stream",
          "text": [
            "Mounted at /content/drive\n"
          ],
          "name": "stdout"
        }
      ]
    },
    {
      "cell_type": "code",
      "metadata": {
        "id": "sH98tK0C4wDv"
      },
      "source": [
        "# Initialize Tkinter\n",
        "root = tkinter.Tk()\n",
        "root.withdraw()\n",
        "\n",
        "#Load trained deep learning model\n",
        "model = load_model('/content/drive/My Drive/Projects/Face_mask/face_mask_detection_alert_system.h5')\n",
        "\n",
        "#Classifier to detect face\n",
        "face_det_classifier=cv2.CascadeClassifier('haarcascade_frontalface_default.xml')\n",
        "\n",
        "# Capture Video\n",
        "vid_source=cv2.VideoCapture(0)\n",
        "\n",
        "# Dictionaries containing details of Wearing Mask and Color of rectangle around face. If wearing mask then color would be \n",
        "# green and if not wearing mask then color of rectangle around face would be red\n",
        "text_dict={0:'Mask ON',1:'No Mask'}\n",
        "rect_color_dict={0:(0,255,0),1:(0,0,255)}\n",
        "\n",
        "SUBJECT = \"Subject\"   \n",
        "TEXT = \"One Visitor violated Face Mask Policy. See in the camera to recognize user. A Person has been detected without a face mask in the Hotel Lobby Area 9. Please Alert the authorities.\"\n",
        " \n",
        "\n",
        "# While Loop to continuously detect camera feed\n",
        "while(True):\n",
        "\n",
        "    ret, img = vid_source.read()\n",
        "    grayscale_img = cv2.cvtColor(img,cv2.COLOR_BGR2GRAY)\n",
        "    faces = face_det_classifier.detectMultiScale(grayscale_img,1.3,5)  \n",
        "\n",
        "    for (x,y,w,h) in faces:\n",
        "    \n",
        "        face_img = grayscale_img[y:y+w,x:x+w]\n",
        "        resized_img = cv2.resize(face_img,(56,56))\n",
        "        normalized_img = resized_img/255.0\n",
        "        reshaped_img = np.reshape(normalized_img,(1,56,56,1))\n",
        "        result=model.predict(reshaped_img)\n",
        "\n",
        "        label=np.argmax(result,axis=1)[0]\n",
        "      \n",
        "        cv2.rectangle(img,(x,y),(x+w,y+h),rect_color_dict[label],2)\n",
        "        cv2.rectangle(img,(x,y-40),(x+w,y),rect_color_dict[label],-1)\n",
        "        cv2.putText(img, text_dict[label], (x, y-10),cv2.FONT_HERSHEY_SIMPLEX,0.8,(0,0,0),2) \n",
        "        \n",
        "        # If label = 1 then it means wearing No Mask and 0 means wearing Mask\n",
        "        if (label == 1):\n",
        "            # Throw a Warning Message to tell user to wear a mask if not wearing one. This will stay\n",
        "            #open and No Access will be given He/She wears the mask\n",
        "            messagebox.showwarning(\"Warning\",\"Access Denied. Please wear a Face Mask\")\n",
        "            \n",
        "            # Send an email to the administrator if access denied/user not wearing face mask \n",
        "            message = 'Subject: {}\\n\\n{}'.format(SUBJECT, TEXT)\n",
        "            mail = smtplib.SMTP('smtp.gmail.com', 587)\n",
        "            mail.ehlo()\n",
        "            mail.starttls()\n",
        "            mail.login('xxxxxx@gmail.com','Hello@001@1234')\n",
        "            mail.sendmail('yyyyyy@gmail.com','yyyyyyy@gmail.com',message)\n",
        "            mail.close\n",
        "        else:\n",
        "            pass\n",
        "            break\n",
        "\n",
        "    cv2.imshow('LIVE Video Feed',img)\n",
        "    key=cv2.waitKey(1)\n",
        "    \n",
        "    if(key==27):\n",
        "        break\n",
        "        \n",
        "cv2.destroyAllWindows()\n",
        "source.release()\n"
      ],
      "execution_count": null,
      "outputs": []
    }
  ]
}